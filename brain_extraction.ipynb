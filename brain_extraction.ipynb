{
 "cells": [
  {
   "cell_type": "markdown",
   "id": "ef4d043a",
   "metadata": {},
   "source": [
    "Input: \n",
    "- Accession CSV - A CSV file with a column called `Accession` with a list of study accessions to be brain extracted\n",
    "- Input directory - Path to a directory with the file structure `<input_images_folder>/<accession>/<file>.nii.gz` where `<file>` is `t1ce_img` and/or `flair_img`\n",
    "- Output directory - Path to a directory where brain extracted images will be saved\n",
    "\n",
    "Output:\n",
    "- HD-BET is applied to all images in the input directory and are output by accession into the output directory, with the structure `<output_images_folder>/<"
   ]
  },
  {
   "cell_type": "code",
   "execution_count": null,
   "id": "00719bc4",
   "metadata": {},
   "outputs": [],
   "source": [
    "import os\n",
    "import subprocess\n",
    "import pandas as pd\n",
    "from pathlib import Path"
   ]
  },
  {
   "cell_type": "code",
   "execution_count": null,
   "id": "fda79320",
   "metadata": {},
   "outputs": [],
   "source": [
    "# Paths and parameters\n",
    "accession_csv = \"accession_list.csv\"\n",
    "input_dir = \"input_images_folder\"\n",
    "\n",
    "output_dir = \"output_images_folder\""
   ]
  },
  {
   "cell_type": "code",
   "execution_count": null,
   "id": "31904a31",
   "metadata": {},
   "outputs": [],
   "source": [
    "# Read accessions from CSV\n",
    "accessions_df = pd.read_csv(accession_csv)\n",
    "accessions = accessions_df['Accession'].tolist()"
   ]
  },
  {
   "cell_type": "code",
   "execution_count": null,
   "id": "fcac8f02",
   "metadata": {},
   "outputs": [],
   "source": [
    "# Iterate through accessions and images\n",
    "for accession in accessions:\n",
    "    input_accession_folder = os.path.join(input_dir, accession)\n",
    "    \n",
    "    output_accession_folder = os.path.join(output_dir, accession)\n",
    "    Path(output_accession_folder).mkdir(parents=True, exist_ok=True)\n",
    "    \n",
    "    for modality in [\"t1ce\", \"flair\"]:\n",
    "        input_image = os.path.join(input_accession_folder, f\"{modality}_img.nii.gz\")\n",
    "        output_image = os.path.join(output_accession_folder, f\"{modality}_brain.nii.gz\")\n",
    "\n",
    "        if os.path.exists(input_image):\n",
    "            print(f\"Processing {input_image}\")\n",
    "            try:\n",
    "                subprocess.run([\n",
    "                    \"hd-bet\",\n",
    "                    \"-i\", input_image,\n",
    "                    \"-o\", output_image,\n",
    "                    \"-device\", \"0\"  # Change if using a different GPU or CPU (-device cpu)\n",
    "                ], check=True)\n",
    "                print(f\"Finished {input_image}\")\n",
    "            except subprocess.CalledProcessError as e:\n",
    "                print(f\"Error processing {input_image}: {e}\")\n",
    "\n",
    "print(\"Brain extraction complete.\")"
   ]
  }
 ],
 "metadata": {
  "kernelspec": {
   "display_name": "Python 3 (ipykernel)",
   "language": "python",
   "name": "python3"
  },
  "language_info": {
   "codemirror_mode": {
    "name": "ipython",
    "version": 3
   },
   "file_extension": ".py",
   "mimetype": "text/x-python",
   "name": "python",
   "nbconvert_exporter": "python",
   "pygments_lexer": "ipython3",
   "version": "3.9.6"
  }
 },
 "nbformat": 4,
 "nbformat_minor": 5
}
