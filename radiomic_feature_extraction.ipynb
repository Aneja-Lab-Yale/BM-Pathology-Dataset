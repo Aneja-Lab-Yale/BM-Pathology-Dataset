{
 "cells": [
  {
   "cell_type": "markdown",
   "id": "1b5645d8",
   "metadata": {},
   "source": [
    "Inputs\n",
    "- Control file: A CSV file that includes an 'Accession' column with a list of image accessions for radiomic feature extraction \n",
    "- Images folder - A folder containing subdirectories with images and segmentations in the format `<images_folder>/<accession>/<file.nii.gz>` where `file` is either `t1ce_img`, `flair_img`, `core_seg`, and/or `whole_seg`. \n",
    "- Path for the output CSV\n",
    "\n",
    "Output: \n",
    "- CSV file with radiomic features extracted after masking each image with the associated segmentation. The file indicates the associated accession and VOI used "
   ]
  },
  {
   "cell_type": "code",
   "execution_count": null,
   "id": "6e6b058e",
   "metadata": {},
   "outputs": [],
   "source": [
    "import nibabel as nib \n",
    "from radiomics import featureextractor\n",
    "import pandas as pd\n",
    "import os\n",
    "from tqdm import tqdm"
   ]
  },
  {
   "cell_type": "code",
   "execution_count": null,
   "id": "e10eac51",
   "metadata": {},
   "outputs": [],
   "source": [
    "control_file_path = 'lung_bm.csv'\n",
    "images_folder_path = '/Users/saahilchadha/Desktop/visageAPI/docker_automatic/docker_mount/images/'\n",
    "\n",
    "radiomics_csv_path = '/Users/saahilchadha/Desktop/visageAPI/docker_automatic/docker_mount/radiomics.csv'"
   ]
  },
  {
   "cell_type": "code",
   "execution_count": null,
   "id": "f95e92e1",
   "metadata": {},
   "outputs": [],
   "source": [
    "accessions_df = pd.read_csv(control_file_path)\n",
    "accessions_df"
   ]
  },
  {
   "cell_type": "code",
   "execution_count": null,
   "id": "307b9ad5",
   "metadata": {},
   "outputs": [],
   "source": [
    "def extract_features(img_path, seg_path, prefix):\n",
    "    img = nib.load(img_path)\n",
    "    seg = nib.load(seg_path)\n",
    "\n",
    "    image_data = img.get_fdata()\n",
    "    segmentation_data = seg.get_fdata()\n",
    "\n",
    "    # Mask the image using the segmentation\n",
    "    masked_image = image_data * (segmentation_data > 0)\n",
    "\n",
    "    # Set up the PyRadiomics feature extractor\n",
    "    extractor = featureextractor.RadiomicsFeatureExtractor()\n",
    "    extractor.enableAllFeatures()  # Enable all feature classes\n",
    "\n",
    "    # Extract features\n",
    "    result = extractor.execute(img_path, seg_path)\n",
    "\n",
    "    filtered_features = {f\"{prefix}_{featureName}\": featureValue for featureName, featureValue in result.items() if not featureName.startswith(\"diagnostics\")}\n",
    "    return filtered_features\n",
    "    "
   ]
  },
  {
   "cell_type": "code",
   "execution_count": null,
   "id": "147dc3ef",
   "metadata": {},
   "outputs": [],
   "source": [
    "features_df_lst = []\n",
    "for accession in tqdm(accessions_df['Accession']):\n",
    "    features_entry = {'accession': accession}\n",
    "    \n",
    "    expected_t1ce_img_path = os.path.join(images_folder_path, accession, 't1ce_img.nii.gz')\n",
    "    if os.path.exists(expected_t1ce_img_path):\n",
    "        img_path = expected_t1ce_img_path\n",
    "        seg_path = os.path.join(images_folder_path, accession, 'core_seg.nii.gz')\n",
    "\n",
    "        filtered_features = extract_features(img_path, seg_path, 't1ce')\n",
    "\n",
    "        features_entry.update(filtered_features)\n",
    "        features_entry\n",
    "    \n",
    "    expected_flair_img_path = os.path.join(images_folder_path, accession, 'flair_img.nii.gz')\n",
    "    if os.path.exists(expected_flair_img_path):\n",
    "        img_path = expected_flair_img_path\n",
    "        seg_path = os.path.join(images_folder_path, accession, 'whole_seg.nii.gz')\n",
    "\n",
    "        filtered_features = extract_features(img_path, seg_path, 'flair')\n",
    "\n",
    "        features_entry.update(filtered_features)\n",
    "        features_entry\n",
    "    features_df_lst.append(features_entry)\n",
    "pd.DataFrame(features_df_lst).to_csv(radiomics_csv_path)\n"
   ]
  }
 ],
 "metadata": {
  "kernelspec": {
   "display_name": "Python 3 (ipykernel)",
   "language": "python",
   "name": "python3"
  },
  "language_info": {
   "codemirror_mode": {
    "name": "ipython",
    "version": 3
   },
   "file_extension": ".py",
   "mimetype": "text/x-python",
   "name": "python",
   "nbconvert_exporter": "python",
   "pygments_lexer": "ipython3",
   "version": "3.9.6"
  }
 },
 "nbformat": 4,
 "nbformat_minor": 5
}
